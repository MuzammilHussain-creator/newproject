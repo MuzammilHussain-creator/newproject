{
 "cells": [
  {
   "cell_type": "code",
   "execution_count": 4,
   "metadata": {},
   "outputs": [],
   "source": [
    "f=open('book.txt','r')"
   ]
  },
  {
   "cell_type": "code",
   "execution_count": 5,
   "metadata": {},
   "outputs": [
    {
     "name": "stdout",
     "output_type": "stream",
     "text": [
      "book.txt\n",
      "r\n"
     ]
    }
   ],
   "source": [
    "print(f.name)\n",
    "print(f.mode)"
   ]
  },
  {
   "cell_type": "code",
   "execution_count": 6,
   "metadata": {},
   "outputs": [],
   "source": [
    "f.close()"
   ]
  },
  {
   "cell_type": "code",
   "execution_count": 9,
   "metadata": {},
   "outputs": [
    {
     "name": "stdout",
     "output_type": "stream",
     "text": [
      "english\n",
      "urdu\n",
      "math\n",
      "physics\n",
      "chemistry\n",
      "phscology\n",
      "c++\n",
      "paython\n",
      "java\n",
      "database\n",
      "\n"
     ]
    }
   ],
   "source": [
    "with open('book.txt','r') as f:\n",
    "    f_contents=f.read()\n",
    "    print(f_contents)"
   ]
  },
  {
   "cell_type": "code",
   "execution_count": 10,
   "metadata": {},
   "outputs": [
    {
     "name": "stdout",
     "output_type": "stream",
     "text": [
      "['english\\n', 'urdu\\n', 'math\\n', 'physics\\n', 'chemistry\\n', 'phscology\\n', 'c++\\n', 'paython\\n', 'java\\n', 'database\\n']\n"
     ]
    }
   ],
   "source": [
    "with open('book.txt','r') as f:\n",
    "    f_contents=f.readlines()\n",
    "    print(f_contents)"
   ]
  },
  {
   "cell_type": "code",
   "execution_count": 11,
   "metadata": {},
   "outputs": [
    {
     "name": "stdout",
     "output_type": "stream",
     "text": [
      "english\n",
      "\n"
     ]
    }
   ],
   "source": [
    "with open('book.txt','r') as f:\n",
    "    f_contents=f.readline()\n",
    "    print(f_contents)"
   ]
  },
  {
   "cell_type": "code",
   "execution_count": 12,
   "metadata": {},
   "outputs": [
    {
     "name": "stdout",
     "output_type": "stream",
     "text": [
      "english\n",
      " urdu\n",
      " math\n",
      " physics\n",
      " chemistry\n",
      " phscology\n",
      " c++\n",
      " paython\n",
      " java\n",
      " database\n",
      " "
     ]
    }
   ],
   "source": [
    "with open('book.txt','r') as f:\n",
    "    for line in f:\n",
    "        print(line,end=' ')"
   ]
  },
  {
   "cell_type": "code",
   "execution_count": 16,
   "metadata": {},
   "outputs": [
    {
     "name": "stdout",
     "output_type": "stream",
     "text": [
      "english\n",
      "urdu\n",
      "math\n",
      "ph\n",
      "english\n",
      "urdu\n",
      "math\n",
      "ph\n",
      "ysics\n",
      "chemistry\n",
      "phsc\n",
      "ology\n",
      "c++\n",
      "paython\n",
      "ja\n",
      "va\n",
      "database\n",
      "\n"
     ]
    }
   ],
   "source": [
    "with open('book.txt','r') as f:\n",
    "    rad_size=20\n",
    "    line=f.read(rad_size)\n",
    "    print(line)\n",
    "    while len(line)>0:\n",
    "        print(line)\n",
    "        line=f.read(rad_size)"
   ]
  },
  {
   "cell_type": "code",
   "execution_count": 17,
   "metadata": {},
   "outputs": [],
   "source": [
    "with open('book1.txt','w') as f:\n",
    "    f.write('test')"
   ]
  },
  {
   "cell_type": "code",
   "execution_count": 18,
   "metadata": {},
   "outputs": [],
   "source": [
    "with open(\"book.txt\",'r') as rf:\n",
    "    with open(\"book1.txt\",'w') as wf:\n",
    "        for line in rf:\n",
    "            wf.write(line)"
   ]
  },
  {
   "cell_type": "code",
   "execution_count": null,
   "metadata": {},
   "outputs": [],
   "source": []
  }
 ],
 "metadata": {
  "kernelspec": {
   "display_name": "Python 3",
   "language": "python",
   "name": "python3"
  },
  "language_info": {
   "codemirror_mode": {
    "name": "ipython",
    "version": 3
   },
   "file_extension": ".py",
   "mimetype": "text/x-python",
   "name": "python",
   "nbconvert_exporter": "python",
   "pygments_lexer": "ipython3",
   "version": "3.7.6"
  }
 },
 "nbformat": 4,
 "nbformat_minor": 4
}
